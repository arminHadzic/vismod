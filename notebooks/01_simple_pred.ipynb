{
 "cells": [
  {
   "cell_type": "code",
   "execution_count": null,
   "id": "6cafcdb6-a60f-4d5a-9454-e7935edb0a04",
   "metadata": {},
   "outputs": [],
   "source": [
    "import numpy as np\n",
    "import pandas as pd\n",
    "from PIL import Image\n",
    "from pathlib import Path\n",
    "from imageio.v3 import imread\n",
    "import matplotlib.pyplot as plt\n",
    "from sklearn.metrics import precision_recall_curve, average_precision_score, \\\n",
    "                            f1_score, precision_score, recall_score, roc_auc_score\n",
    "\n",
    "import torch\n",
    "\n",
    "from __init__ import init_paths\n",
    "init_paths()\n",
    "\n",
    "from model import ModClassifier\n",
    "from utils import get_image_transform"
   ]
  },
  {
   "cell_type": "markdown",
   "id": "547eef8f-afd2-4a95-8cb4-5be190ecf7ce",
   "metadata": {},
   "source": [
    "## Setup"
   ]
  },
  {
   "cell_type": "code",
   "execution_count": null,
   "id": "8139acbd-02bb-4210-a23e-4a75d576839e",
   "metadata": {},
   "outputs": [],
   "source": [
    "# Paths\n",
    "CWD = Path.cwd().parent # Or replace with the base directory\n",
    "DATA_DIR = CWD / \"data\" / \"test\"  # adjust if needed\n",
    "CHECKPOINT = CWD / \"weights\" / \"default.ckpt\"\n",
    "OUTPUT_CSV = CWD / \"notebooks\" / \"results.csv\"  # set to None to skip saving"
   ]
  },
  {
   "cell_type": "code",
   "execution_count": null,
   "id": "abfac6b3-a9aa-4f3c-b6d2-8109292598e5",
   "metadata": {},
   "outputs": [],
   "source": [
    "# Visualize Settings\n",
    "BATCH_SIZE = 16\n",
    "NUM_WORKERS = 2\n",
    "THRESHOLD = 0.5\n",
    "IMAGE_SIZE = 224\n",
    "MAX_SHOW = 16  # max images to display\n",
    "\n",
    "device = \"cuda\" if torch.cuda.is_available() else \"cpu\"\n",
    "device"
   ]
  },
  {
   "cell_type": "markdown",
   "id": "50a0e8d1-e518-4873-b14c-7fff89b43065",
   "metadata": {},
   "source": [
    "## Data"
   ]
  },
  {
   "cell_type": "code",
   "execution_count": null,
   "id": "d8c8a005-75b3-40b2-9491-55b5e62a7c9a",
   "metadata": {},
   "outputs": [],
   "source": [
    "image_transform = get_image_transform(image_size=IMAGE_SIZE)\n",
    "\n",
    "def load_img_as_tensor(path: Path):\n",
    "    img = Image.open(path).convert(\"RGB\")  # same as ImageFolder\n",
    "    return image_transform(img)"
   ]
  },
  {
   "cell_type": "code",
   "execution_count": null,
   "id": "4174a5d1-75fc-4840-858c-16aeee17028a",
   "metadata": {},
   "outputs": [],
   "source": [
    "DATA_DIR"
   ]
  },
  {
   "cell_type": "code",
   "execution_count": null,
   "id": "5238adf7-7939-45b6-8407-3030b27b5afa",
   "metadata": {},
   "outputs": [],
   "source": [
    "EXTS = {\".jpg\", \".jpeg\", \".png\"}\n",
    "images = [p for p in Path(DATA_DIR).glob(\"*/*.*\") if p.is_file() and p.suffix.lower() in EXTS]\n",
    "len(images), images[:5]"
   ]
  },
  {
   "cell_type": "markdown",
   "id": "9c0a8c3a-c876-43ea-b806-bedecd295ff9",
   "metadata": {},
   "source": [
    "## Model"
   ]
  },
  {
   "cell_type": "code",
   "execution_count": null,
   "id": "97beccfc-468a-49ff-b7b1-c2547524c4e6",
   "metadata": {},
   "outputs": [],
   "source": [
    "# Note: this models predicts if content is safe (true, > THRESHOLD) or not (false, <= THRESHOLD)\n",
    "if CHECKPOINT and Path(CHECKPOINT).exists():\n",
    "    model = ModClassifier.load_from_checkpoint(str(CHECKPOINT)).to(device).eval()\n",
    "else:\n",
    "    model = ModClassifier().to(device).eval()\n",
    "CHECKPOINT"
   ]
  },
  {
   "cell_type": "markdown",
   "id": "604faf32-86d4-4ee2-92fd-4960ac63094f",
   "metadata": {},
   "source": [
    "## Prediction"
   ]
  },
  {
   "cell_type": "code",
   "execution_count": null,
   "id": "df8845c2-f951-4ce9-a977-762e6a451262",
   "metadata": {},
   "outputs": [],
   "source": [
    "# optional: normalize folder names -> canonical labels\n",
    "def _canon_label(name: str) -> str:\n",
    "    n = name.strip().lower()\n",
    "    if n in {\"safe\", \"s\"}:\n",
    "        return \"Safe\"\n",
    "    if n in {\"not\", \"not safe\", \"n\"}:\n",
    "        return \"Dangerous\"\n",
    "    return name  # fall back to raw folder name if it's something else\n",
    "\n",
    "@torch.no_grad()\n",
    "def predict_paths(paths, batch_size=BATCH_SIZE, threshold=THRESHOLD):\n",
    "    rows = []\n",
    "    for i in range(0, len(paths), batch_size):\n",
    "        batch_paths = paths[i:i + batch_size]\n",
    "        # GT labels from parent dir\n",
    "        gt_labels = [_canon_label(p.parent.name) for p in batch_paths]\n",
    "\n",
    "        batch_tensors = torch.stack([load_img_as_tensor(p) for p in batch_paths]).to(device)\n",
    "        logits = model(batch_tensors).squeeze(1).float()\n",
    "        probs = torch.sigmoid(logits).cpu().numpy()  # probability of \"Safe\" (positive class)\n",
    "\n",
    "        pred_classes = np.where(probs > threshold, \"Safe\", \"Dangerous\")\n",
    "\n",
    "        for p, pr, pc, gt in zip(batch_paths, probs, pred_classes, gt_labels):\n",
    "            rows.append({\n",
    "                \"filename\": str(p),\n",
    "                \"label\": gt,                 # ground-truth from folder\n",
    "                \"probability_safe\": float(pr),    # P(Safe)\n",
    "                \"predicted_class\": pc,\n",
    "                \"correct\": (pc == gt),\n",
    "            })\n",
    "    return pd.DataFrame(rows)"
   ]
  },
  {
   "cell_type": "code",
   "execution_count": null,
   "id": "780b15d2-dcb3-4dc7-97bf-45cf5b6e2cd2",
   "metadata": {},
   "outputs": [],
   "source": [
    "df = predict_paths(images)\n",
    "df.head(10)"
   ]
  },
  {
   "cell_type": "code",
   "execution_count": null,
   "id": "60a91c3f-c944-49a3-bbad-8f554ca5a20f",
   "metadata": {},
   "outputs": [],
   "source": [
    "if OUTPUT_CSV != None:\n",
    "    OUTPUT_CSV.parent.mkdir(parents=True, exist_ok=True)\n",
    "    df.to_csv(OUTPUT_CSV, index=False)\n",
    "    OUTPUT_CSV"
   ]
  },
  {
   "cell_type": "markdown",
   "id": "9b819012-e7a3-404d-bdba-9377293098eb",
   "metadata": {},
   "source": [
    "## Visualize"
   ]
  },
  {
   "cell_type": "code",
   "execution_count": null,
   "id": "c7ff6471-b37d-4579-9024-9a3f197b539f",
   "metadata": {},
   "outputs": [],
   "source": [
    "def show_grid(df, max_n=MAX_SHOW, ncols=4):\n",
    "    sel = df.sample(n=min(max_n, len(df)), random_state=None)\n",
    "    n = len(sel)\n",
    "    nrows = (n + ncols - 1) // ncols\n",
    "\n",
    "    plt.figure(figsize=(4*ncols, 3*nrows))\n",
    "    for i, row in enumerate(sel.itertuples(index=False)):\n",
    "        img = imread(row.filename)\n",
    "        ax = plt.subplot(nrows, ncols, i+1)\n",
    "        ax.imshow(img if img.ndim == 3 else img, cmap=None if img.ndim == 3 else \"gray\")\n",
    "        ax.axis(\"off\")\n",
    "\n",
    "        correct = getattr(row, \"correct\", row.label == row.predicted_class)\n",
    "        title_color = \"tab:green\" if correct else \"tab:red\"\n",
    "        ax.set_title(\n",
    "            #f\"{Path(row.filename).name}\\n\"\n",
    "            #f\"GT: {row.label} | Pred: {row.predicted_class} (p={row.probability_safe:.2f})\",\n",
    "            f\"GT: {row.label} | Pred: {row.predicted_class}\",\n",
    "            fontsize=9,\n",
    "            color=title_color,\n",
    "        )\n",
    "    plt.tight_layout()\n",
    "    plt.show()"
   ]
  },
  {
   "cell_type": "code",
   "execution_count": null,
   "id": "3bd80e11-fca3-429a-9197-177d356befb1",
   "metadata": {},
   "outputs": [],
   "source": [
    "show_grid(df)"
   ]
  },
  {
   "cell_type": "markdown",
   "id": "6d8a1fc9-20b5-4993-b79e-3819642c3b09",
   "metadata": {},
   "source": [
    "## Example Image for README.md"
   ]
  },
  {
   "cell_type": "code",
   "execution_count": null,
   "id": "59ff76e5-6c3c-4d64-8751-a24ef0af5abe",
   "metadata": {},
   "outputs": [],
   "source": [
    "keepers = {\n",
    "    \"/app/data/test/safe/n02102040_3916.JPEG\": True,\n",
    "    \"/app/data/test/not/n03000684_16549.JPEG\": True,\n",
    "    \"/app/data/test/safe/n02102040_8304.JPEG\": True,\n",
    "    \"/app/data/test/not/n03000684_25484.JPEG\": True\n",
    "}\n",
    "\n",
    "plt.figure(figsize=(16, 3))\n",
    "plt_cnt = 1\n",
    "for i, row in enumerate(df.itertuples(index=False)):\n",
    "    if row.filename not in keepers:\n",
    "        continue\n",
    "    img = imread(row.filename)\n",
    "    ax = plt.subplot(1, 4, plt_cnt)\n",
    "    plt_cnt += 1\n",
    "    ax.imshow(img if img.ndim == 3 else img, cmap=None if img.ndim == 3 else \"gray\")\n",
    "    ax.axis(\"off\")\n",
    "\n",
    "    correct = getattr(row, \"correct\", row.label == row.predicted_class)\n",
    "    title_color = \"tab:green\" if correct else \"tab:red\"\n",
    "    ax.set_title(\n",
    "        f\"GT: {row.label} | Pred: {row.predicted_class}\",\n",
    "        fontsize=15,\n",
    "        color=title_color,\n",
    "    )\n",
    "plt.tight_layout()\n",
    "plt.show()"
   ]
  },
  {
   "cell_type": "code",
   "execution_count": null,
   "id": "0770ed90-66c9-4e45-b104-2d45541576eb",
   "metadata": {},
   "outputs": [],
   "source": []
  }
 ],
 "metadata": {
  "kernelspec": {
   "display_name": "Python 3 (ipykernel)",
   "language": "python",
   "name": "python3"
  },
  "language_info": {
   "codemirror_mode": {
    "name": "ipython",
    "version": 3
   },
   "file_extension": ".py",
   "mimetype": "text/x-python",
   "name": "python",
   "nbconvert_exporter": "python",
   "pygments_lexer": "ipython3",
   "version": "3.11.10"
  }
 },
 "nbformat": 4,
 "nbformat_minor": 5
}
